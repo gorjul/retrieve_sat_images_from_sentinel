{
 "cells": [
  {
   "cell_type": "markdown",
   "metadata": {},
   "source": [
    "### Prerequisites\n",
    "\n",
    "#### Sentinel Hub account\n",
    "\n",
    "In order to use Sentinel Hub services you will need a Sentinel Hub account. If you do not have one yet, create one at [Sentinel Hub webpage](https://services.sentinel-hub.com/oauth/subscription).\n",
    "\n",
    "Once you have the account set up, login to [Sentinel Hub Configurator](https://apps.sentinel-hub.com/configurator/). Inside there will already exist one configuration with an **instance ID** (alpha-numeric code of length 36). For this tutorial it is recommended that you create a new configuration (`\"Add new configuration\"`) and set the configuration to be based on **Python scripts template**. Such configuration will already contain all layers used in these examples. Otherwise you will have to define the layers for your  configuration yourself.\n",
    "\n",
    "After you have decided which configuration to use, you have two options You can either put configuration's **instance ID** into `sentinelhub` package's configuration file following the [configuration instructions](http://sentinelhub-py.readthedocs.io/en/latest/configure.html) or you can write it down in the following cell:"
   ]
  },
  {
   "cell_type": "code",
   "execution_count": null,
   "metadata": {},
   "outputs": [],
   "source": [
    "INSTANCE_ID = 'YOUR-INSTANCE-ID-FROM-HUB' # get an API key from sentinel hub"
   ]
  },
  {
   "cell_type": "markdown",
   "metadata": {},
   "source": [
    "#### Imports "
   ]
  },
  {
   "cell_type": "code",
   "execution_count": null,
   "metadata": {},
   "outputs": [],
   "source": [
    "%reload_ext autoreload\n",
    "%autoreload 2\n",
    "%matplotlib inline"
   ]
  },
  {
   "cell_type": "code",
   "execution_count": null,
   "metadata": {},
   "outputs": [],
   "source": [
    "import datetime\n",
    "import numpy as np\n",
    "import math\n",
    "import matplotlib.pyplot as plt\n",
    "import matplotlib.image as mimg\n",
    "import random\n",
    "import time"
   ]
  },
  {
   "cell_type": "code",
   "execution_count": null,
   "metadata": {},
   "outputs": [],
   "source": [
    "from sentinelhub import WmsRequest, WcsRequest, MimeType, CRS, BBox, CustomUrlParam, DataSource"
   ]
  },
  {
   "cell_type": "markdown",
   "metadata": {},
   "source": [
    "Plot images in output."
   ]
  },
  {
   "cell_type": "code",
   "execution_count": null,
   "metadata": {},
   "outputs": [],
   "source": [
    "def plot_image(image, factor=1):\n",
    "    \"\"\"\n",
    "    Utility function for plotting RGB images.\n",
    "    \"\"\"\n",
    "    fig = plt.subplots(nrows=1, ncols=1, figsize=(15, 7))\n",
    "    \n",
    "    if np.issubdtype(image.dtype, np.floating):\n",
    "        plt.imshow(np.minimum(image * factor, 1))\n",
    "    else:\n",
    "        plt.imshow(image)"
   ]
  },
  {
   "cell_type": "markdown",
   "metadata": {},
   "source": [
    "Method to crop images to a size of 2000x2000 pixels.<br>\n",
    "**This was needed for my project.** Change it the way you like :)"
   ]
  },
  {
   "cell_type": "code",
   "execution_count": null,
   "metadata": {},
   "outputs": [],
   "source": [
    "def crop_img(img):\n",
    "    startx = 0\n",
    "    starty = 0\n",
    "    endx = 2000\n",
    "    endy = 2000\n",
    "    return img[starty:endy,startx:endx]"
   ]
  },
  {
   "cell_type": "markdown",
   "metadata": {},
   "source": [
    "Analyse image and return true iff the images does not contain transparent pixels.<br>\n",
    "**This was needed for my prject.** Change it the way you like."
   ]
  },
  {
   "cell_type": "code",
   "execution_count": null,
   "metadata": {},
   "outputs": [],
   "source": [
    "def analyse_img(img):\n",
    "    return np.all(np.any(img, axis=2)) == True"
   ]
  },
  {
   "cell_type": "markdown",
   "metadata": {},
   "source": [
    "Method to calculate the lower right and upper left corner of the **Betsiboka Bounding Box** used to request the satellite image"
   ]
  },
  {
   "cell_type": "code",
   "execution_count": null,
   "metadata": {},
   "outputs": [],
   "source": [
    "def GetBoundingCoords(centerLong, centerLat):\n",
    "    distance = 75 # km\n",
    "    centerLong = (centerLong + 540) % 360 - 180 # normalise the center longitude\n",
    "    \n",
    "    right = MaxLatLongOnBearing(centerLong, centerLat, 135, distance)\n",
    "    left = MaxLatLongOnBearing(centerLong, centerLat, 315, distance)\n",
    "    \n",
    "    return [right, left]"
   ]
  },
  {
   "cell_type": "markdown",
   "metadata": {},
   "source": [
    "Method to calculate the lat and long of point a given a certain direction and a distance to it.\n",
    "\n",
    "`d = distance`<br>\n",
    "`d/6371 = distance divided by the radius of the earth`<br>\n",
    "`bearing = clockwise from north`"
   ]
  },
  {
   "cell_type": "code",
   "execution_count": null,
   "metadata": {},
   "outputs": [],
   "source": [
    "def MaxLatLongOnBearing(centerLong, centerLat, bearing, d):\n",
    "    lon1 = math.radians(centerLong) # translate degrees to radians\n",
    "    lat1 = math.radians(centerLat) # translate degrees to radians\n",
    "    \n",
    "    brng = math.radians(bearing) # translate degrees to radians\n",
    "    \n",
    "    lat2 =math.asin(math.sin(lat1) * math.cos(d / 6371) + math.cos(lat1) * math.sin(d / 6371) * math.cos(brng))\n",
    "    lon2 =lon1 + math.atan2(math.cos(d / 6371) - math.sin(lat1) * math.sin(lat2), math.sin(brng) * math.sin(d / 6371) * math.cos(lat1))\n",
    "    \n",
    "    maxLat = math.degrees(lat2)\n",
    "    maxLong = math.degrees(lon2)\n",
    "    if centerLong < 0:\n",
    "        maxLong -= 90\n",
    "        \n",
    "    maxLong = (maxLong + 540) % 360 - 180 # normalise longitude\n",
    "\n",
    "    return [round(maxLong, 3), round(maxLat, 3)]"
   ]
  },
  {
   "cell_type": "markdown",
   "metadata": {},
   "source": [
    "Set the variables for the retrieval"
   ]
  },
  {
   "cell_type": "code",
   "execution_count": null,
   "metadata": {},
   "outputs": [],
   "source": [
    "image_counter = 0\n",
    "counter = 1\n",
    "random_counter = 10001\n",
    "images = [] # list of images"
   ]
  },
  {
   "cell_type": "markdown",
   "metadata": {},
   "source": [
    "Retrieve images with API of sentinel hub.<br>\n",
    "**This can take some time.** _For my purposes it took 4 days to get enough images to train a classifier..._<br>\n",
    "If you get an error message, try over a few minutes to run the query again."
   ]
  },
  {
   "cell_type": "code",
   "execution_count": null,
   "metadata": {
    "scrolled": true
   },
   "outputs": [],
   "source": [
    "random.seed(random_counter) # to reproduce results\n",
    "print(f'{\"Counter\":7} {\"Time\":8} {\"Random Seed\":11} {\"Image Counter\":13} {\"Box\":10}')\n",
    "while counter <= 3000:\n",
    "    lat = random.uniform(-80, 84) # random latitude between -80 and 84 degrees\n",
    "    long = random.uniform(-180, 180) # random longitude between -180 and 180 degrees\n",
    "    box=GetBoundingCoords(long, lat) # create the bounding box with center point in lat and long\n",
    "    \n",
    "    BBOX = BBox(bbox=box, crs=CRS.WGS84) # translate thebox to a system sentinel understands\n",
    "    \n",
    "    wms_img_request = WcsRequest(layer='CLOUDS-90', # please change/create layer in sentinel hub profile page\n",
    "                                 bbox=BBOX,\n",
    "                                 resx='50m', resy='50m', # one pixel equal 50x50m resolution\n",
    "                                 # maxcc=1.0, # max cloud coverage\n",
    "                                 image_format=MimeType.PNG, # image type\n",
    "                                 instance_id=INSTANCE_ID, # your hub ID\n",
    "                                 # time_difference=datetime.timedelta(days=10), # this is used to merge pictures across several hours/days\n",
    "                                 custom_url_params={CustomUrlParam.TRANSPARENT: True}) # set background to transparent\n",
    "    \n",
    "    img = wms_img_request.get_data() # request the data\n",
    "    st = datetime.datetime.fromtimestamp(time.time()).strftime('%H_%M_%S') # time stamp for progress and filename\n",
    "    if len(img) > 0: # if image was retrieved\n",
    "        img = crop_img(img[-1]) # select the last one taken\n",
    "        images.append(img) # append images to list\n",
    "        if analyse_img(img): # analyse images for transparent pixels\n",
    "            print(f'{counter:7} {st:8} {random_counter:11} {image_counter:13} ' + str(box))\n",
    "            # image name contains the image counter (how many requests have been done),\n",
    "            # the random counter (to repeat the results),\n",
    "            # the time stamp,\n",
    "            # and the coordinates of the bounding box\n",
    "            # change it the way you like\n",
    "            image_name = str(image_counter) + \"_\" + str(random_counter) + \"_\" + st + \"_\" + str(box[0][0]) + \"_\" + str(box[0][1]) + \"_\" + str(box[1][0]) + \"_\" + str(box[1][1]) + \".png\"\n",
    "            mimg.imsave(\"./images_sentinel/\" + image_name, img)\n",
    "            counter += 1\n",
    "            random_counter += 1\n",
    "            random.seed(random_counter)\n",
    "        else:\n",
    "            print(f'{\"----\":7} {st:8} {\"----\":11} {image_counter:13} ' + str(box)) # image with transparent pixels found\n",
    "    else:\n",
    "        print(f'{\"****\":7} {st:8} {\"****\":11} {image_counter:13} ' + str(box)) # no image found\n",
    "    image_counter += 1"
   ]
  }
 ],
 "metadata": {
  "kernelspec": {
   "display_name": "Python 3",
   "language": "python",
   "name": "python3"
  },
  "language_info": {
   "codemirror_mode": {
    "name": "ipython",
    "version": 3
   },
   "file_extension": ".py",
   "mimetype": "text/x-python",
   "name": "python",
   "nbconvert_exporter": "python",
   "pygments_lexer": "ipython3",
   "version": "3.6.5"
  }
 },
 "nbformat": 4,
 "nbformat_minor": 2
}
